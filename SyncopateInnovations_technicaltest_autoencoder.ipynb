{
 "cells": [
  {
   "cell_type": "markdown",
   "metadata": {
    "id": "sq2A4Xz0F8gF"
   },
   "source": [
    "### autoencoding"
   ]
  },
  {
   "cell_type": "code",
   "execution_count": 2,
   "metadata": {
    "id": "yiKFfDreF8fw"
   },
   "outputs": [],
   "source": [
    "import os\n",
    "import numpy as np\n",
    "import pandas as pd\n",
    "import matplotlib.pyplot as plt"
   ]
  },
  {
   "cell_type": "code",
   "execution_count": 3,
   "metadata": {
    "id": "Bl38SzIO9OlU"
   },
   "outputs": [],
   "source": [
    "file_path = \"/content/drive/MyDrive/code_sharing/syncopate/final100k.csv\"\n",
    "audio_featured_df = pd.read_csv(file_path, encoding='utf8')"
   ]
  },
  {
   "cell_type": "code",
   "execution_count": 15,
   "metadata": {
    "colab": {
     "base_uri": "https://localhost:8080/"
    },
    "id": "xZc5n7gg5KmK",
    "outputId": "88a1e84c-c262-4d84-a3c0-2f349ca28f37"
   },
   "outputs": [
    {
     "data": {
      "text/plain": [
       "Index(['duration_ms', 'popularity', 'tempo', 'key', 'liveness', 'acousticness',\n",
       "       'danceability', 'energy', 'instrumentalness', 'loudness', 'mode',\n",
       "       'speechiness', 'time_signature', 'valence', 'is_title_contain_live',\n",
       "       'high_liveness', 'incorrect_liveness'],\n",
       "      dtype='object')"
      ]
     },
     "execution_count": 15,
     "metadata": {
      "tags": []
     },
     "output_type": "execute_result"
    }
   ],
   "source": [
    "audio_featured_df.columns"
   ]
  },
  {
   "cell_type": "code",
   "execution_count": 14,
   "metadata": {
    "id": "PwSP8GZe5XMg"
   },
   "outputs": [],
   "source": [
    "audio_featured_df = audio_featured_df.drop(['Unnamed: 0'], axis=1)\n"
   ]
  },
  {
   "cell_type": "code",
   "execution_count": 16,
   "metadata": {
    "id": "hXCHuFux9BLW"
   },
   "outputs": [],
   "source": [
    "# seperate the data in X, Y\n",
    "y_df = audio_featured_df['incorrect_liveness']\n",
    "x_df = audio_featured_df.drop(['is_title_contain_live','high_liveness','incorrect_liveness'], axis=1)\n"
   ]
  },
  {
   "cell_type": "code",
   "execution_count": 17,
   "metadata": {
    "colab": {
     "base_uri": "https://localhost:8080/"
    },
    "id": "ZkLw7a_z5Eo2",
    "outputId": "aba3d3fe-768a-42e0-8a35-281717cb0c29"
   },
   "outputs": [
    {
     "data": {
      "text/plain": [
       "Index(['duration_ms', 'popularity', 'tempo', 'key', 'liveness', 'acousticness',\n",
       "       'danceability', 'energy', 'instrumentalness', 'loudness', 'mode',\n",
       "       'speechiness', 'time_signature', 'valence'],\n",
       "      dtype='object')"
      ]
     },
     "execution_count": 17,
     "metadata": {
      "tags": []
     },
     "output_type": "execute_result"
    }
   ],
   "source": [
    "x_df.columns"
   ]
  },
  {
   "cell_type": "code",
   "execution_count": 21,
   "metadata": {
    "colab": {
     "base_uri": "https://localhost:8080/"
    },
    "id": "LcBFGmlW6A3b",
    "outputId": "c8350d4a-b4dc-4503-a2fd-5047ae229025"
   },
   "outputs": [
    {
     "data": {
      "text/plain": [
       "(99999, 14)"
      ]
     },
     "execution_count": 21,
     "metadata": {
      "tags": []
     },
     "output_type": "execute_result"
    }
   ],
   "source": [
    "x_df.shape"
   ]
  },
  {
   "cell_type": "code",
   "execution_count": 18,
   "metadata": {
    "id": "pNZWzCkz9LQy"
   },
   "outputs": [],
   "source": [
    "# transform the data by StandardScaler\n",
    "from sklearn.preprocessing import MinMaxScaler, StandardScaler\n",
    "x_df_MM = MinMaxScaler().fit_transform(x_df)"
   ]
  },
  {
   "cell_type": "code",
   "execution_count": 6,
   "metadata": {
    "id": "OA-qdOU3F8gF",
    "scrolled": true
   },
   "outputs": [],
   "source": [
    "from tensorflow import keras\n",
    "from tensorflow.keras import datasets\n",
    "from tensorflow.keras.layers import *\n",
    "from tensorflow.keras.models import *\n",
    "import matplotlib.pyplot as plt\n",
    "import numpy as np"
   ]
  },
  {
   "cell_type": "code",
   "execution_count": 22,
   "metadata": {
    "id": "ANAHhk9UF8gG"
   },
   "outputs": [],
   "source": [
    "from sklearn.model_selection import train_test_split\n",
    "# train_test_split -> (特徵90%, 特徵10%, 目標90%, 目標10%)\n",
    "x_train, x_test, y_train, y_test = train_test_split(x_df, y_df, test_size=0.1)"
   ]
  },
  {
   "cell_type": "code",
   "execution_count": 23,
   "metadata": {
    "colab": {
     "base_uri": "https://localhost:8080/"
    },
    "id": "0HdbhFjrF8gG",
    "outputId": "12ee9b65-bd55-48fd-eae2-0469c551af8f"
   },
   "outputs": [
    {
     "data": {
      "text/plain": [
       "((89999, 14), (89999,), (10000, 14), (10000,))"
      ]
     },
     "execution_count": 23,
     "metadata": {
      "tags": []
     },
     "output_type": "execute_result"
    }
   ],
   "source": [
    "x_train.shape, y_train.shape, x_test.shape, y_test.shape"
   ]
  },
  {
   "cell_type": "code",
   "execution_count": 24,
   "metadata": {
    "id": "1pg9JHiFF8gG"
   },
   "outputs": [],
   "source": [
    "normal_no = 0\n",
    "abnormal_no = 1\n",
    "\n",
    "x_normal = x_train[y_train == normal_no]\n",
    "x_test_normal = x_test[y_test == normal_no]\n",
    "x_abnormal = np.concatenate((x_train[y_train == abnormal_no], x_test[y_test == abnormal_no]))\n",
    "\n",
    "#x_normal = np.expand_dims(x_normal, axis=-1)\n",
    "#x_test_normal = np.expand_dims(x_test_normal, axis=-1)\n",
    "#x_abnormal = np.expand_dims(x_abnormal, axis=-1)\n",
    "\n",
    "# For Dense autoencoder\n",
    "x_normal = np.array(x_normal).reshape((x_normal.shape[0], -1))\n",
    "x_test_normal = np.array(x_test_normal).reshape((x_test_normal.shape[0], -1))\n",
    "x_abnormal = np.array(x_abnormal).reshape((x_abnormal.shape[0], -1))"
   ]
  },
  {
   "cell_type": "code",
   "execution_count": 25,
   "metadata": {
    "colab": {
     "base_uri": "https://localhost:8080/"
    },
    "id": "2_Po965MF8gG",
    "outputId": "870b647a-f8a9-4399-fb3e-6d7469db1595"
   },
   "outputs": [
    {
     "data": {
      "text/plain": [
       "((88234, 14), (9812, 14), (1953, 14))"
      ]
     },
     "execution_count": 25,
     "metadata": {
      "tags": []
     },
     "output_type": "execute_result"
    }
   ],
   "source": [
    "x_normal.shape, x_test_normal.shape , x_abnormal.shape"
   ]
  },
  {
   "cell_type": "markdown",
   "metadata": {
    "id": "RWE9gI72F8gH"
   },
   "source": [
    "Normalization"
   ]
  },
  {
   "cell_type": "code",
   "execution_count": 26,
   "metadata": {
    "colab": {
     "base_uri": "https://localhost:8080/"
    },
    "id": "Sqt9Cd6RF8gI",
    "outputId": "6eb681f3-061d-43ba-896e-180efa6f4e8d"
   },
   "outputs": [
    {
     "name": "stdout",
     "output_type": "stream",
     "text": [
      "Model: \"model\"\n",
      "_________________________________________________________________\n",
      "Layer (type)                 Output Shape              Param #   \n",
      "=================================================================\n",
      "input_1 (InputLayer)         [(None, 14)]              0         \n",
      "_________________________________________________________________\n",
      "dense (Dense)                (None, 8)                 120       \n",
      "_________________________________________________________________\n",
      "dense_1 (Dense)              (None, 4)                 36        \n",
      "_________________________________________________________________\n",
      "dense_2 (Dense)              (None, 2)                 10        \n",
      "_________________________________________________________________\n",
      "dense_3 (Dense)              (None, 4)                 12        \n",
      "_________________________________________________________________\n",
      "dense_4 (Dense)              (None, 8)                 40        \n",
      "_________________________________________________________________\n",
      "dense_5 (Dense)              (None, 14)                126       \n",
      "=================================================================\n",
      "Total params: 344\n",
      "Trainable params: 344\n",
      "Non-trainable params: 0\n",
      "_________________________________________________________________\n"
     ]
    }
   ],
   "source": [
    "# Model 2: Dense encoder\n",
    "inputs = Input((14,))\n",
    "x = Dense(8, activation='tanh')(inputs)\n",
    "x = Dense(4, activation='tanh')(x)\n",
    "x = Dense(2, activation='tanh')(x)\n",
    "x = Dense(4, activation='tanh')(x)\n",
    "x = Dense(8, activation='tanh')(x)\n",
    "x = Dense(14, activation='sigmoid')(x)\n",
    "model = Model(inputs, x)\n",
    "model.summary()"
   ]
  },
  {
   "cell_type": "code",
   "execution_count": 27,
   "metadata": {
    "id": "rEdOoMIsF8gI"
   },
   "outputs": [],
   "source": [
    "model.compile(optimizer= keras.optimizers.Adam(learning_rate=1e-4), loss='mse')"
   ]
  },
  {
   "cell_type": "code",
   "execution_count": 28,
   "metadata": {
    "colab": {
     "base_uri": "https://localhost:8080/"
    },
    "id": "554GjVOLF8gI",
    "outputId": "b6880112-e35a-4b8c-f31f-1f899db459d1"
   },
   "outputs": [
    {
     "name": "stdout",
     "output_type": "stream",
     "text": [
      "Epoch 1/50\n",
      "2758/2758 [==============================] - 3s 980us/step - loss: 4550403928.2407\n",
      "Epoch 2/50\n",
      "2758/2758 [==============================] - 3s 941us/step - loss: 4528893598.5734\n",
      "Epoch 3/50\n",
      "2758/2758 [==============================] - 3s 958us/step - loss: 4520343916.1899\n",
      "Epoch 4/50\n",
      "2758/2758 [==============================] - 3s 945us/step - loss: 4548113026.2733\n",
      "Epoch 5/50\n",
      "2758/2758 [==============================] - 3s 979us/step - loss: 4584296292.9525\n",
      "Epoch 6/50\n",
      "2758/2758 [==============================] - 3s 959us/step - loss: 4613544889.2033\n",
      "Epoch 7/50\n",
      "2758/2758 [==============================] - 3s 959us/step - loss: 4586388470.5357\n",
      "Epoch 8/50\n",
      "2758/2758 [==============================] - 3s 969us/step - loss: 4642350111.6404\n",
      "Epoch 9/50\n",
      "2758/2758 [==============================] - 3s 953us/step - loss: 4607962764.2015\n",
      "Epoch 10/50\n",
      "2758/2758 [==============================] - 3s 943us/step - loss: 4599331426.9112\n",
      "Epoch 11/50\n",
      "2758/2758 [==============================] - 3s 956us/step - loss: 4624960940.3987\n",
      "Epoch 12/50\n",
      "2758/2758 [==============================] - 3s 955us/step - loss: 4636771169.1482\n",
      "Epoch 13/50\n",
      "2758/2758 [==============================] - 3s 958us/step - loss: 4649684594.2211\n",
      "Epoch 14/50\n",
      "2758/2758 [==============================] - 3s 968us/step - loss: 4638582744.4726\n",
      "Epoch 15/50\n",
      "2758/2758 [==============================] - 3s 930us/step - loss: 4616235990.6169\n",
      "Epoch 16/50\n",
      "2758/2758 [==============================] - 3s 964us/step - loss: 4579496760.1363\n",
      "Epoch 17/50\n",
      "2758/2758 [==============================] - 3s 952us/step - loss: 4667437916.2305\n",
      "Epoch 18/50\n",
      "2758/2758 [==============================] - 3s 959us/step - loss: 4610102402.0877\n",
      "Epoch 19/50\n",
      "2758/2758 [==============================] - 3s 963us/step - loss: 4497463441.6760\n",
      "Epoch 20/50\n",
      "2758/2758 [==============================] - 3s 978us/step - loss: 4573961106.5111\n",
      "Epoch 21/50\n",
      "2758/2758 [==============================] - 3s 941us/step - loss: 4616875090.8590\n",
      "Epoch 22/50\n",
      "2758/2758 [==============================] - 3s 946us/step - loss: 4576543654.1819\n",
      "Epoch 23/50\n",
      "2758/2758 [==============================] - 3s 940us/step - loss: 4526644703.8956\n",
      "Epoch 24/50\n",
      "2758/2758 [==============================] - 3s 976us/step - loss: 4529301950.9561\n",
      "Epoch 25/50\n",
      "2758/2758 [==============================] - 3s 945us/step - loss: 4518712065.4846\n",
      "Epoch 26/50\n",
      "2758/2758 [==============================] - 3s 954us/step - loss: 4547884187.4186\n",
      "Epoch 27/50\n",
      "2758/2758 [==============================] - 3s 954us/step - loss: 4621768687.0199\n",
      "Epoch 28/50\n",
      "2758/2758 [==============================] - 3s 957us/step - loss: 4628536475.3258\n",
      "Epoch 29/50\n",
      "2758/2758 [==============================] - 3s 940us/step - loss: 4567217398.6285\n",
      "Epoch 30/50\n",
      "2758/2758 [==============================] - 3s 958us/step - loss: 4612533935.5535\n",
      "Epoch 31/50\n",
      "2758/2758 [==============================] - 3s 946us/step - loss: 4533613147.3954\n",
      "Epoch 32/50\n",
      "2758/2758 [==============================] - 3s 926us/step - loss: 4543947968.1624\n",
      "Epoch 33/50\n",
      "2758/2758 [==============================] - 3s 948us/step - loss: 4565054732.8974\n",
      "Epoch 34/50\n",
      "2758/2758 [==============================] - 3s 977us/step - loss: 4619533703.1910\n",
      "Epoch 35/50\n",
      "2758/2758 [==============================] - 3s 947us/step - loss: 4719511097.4353\n",
      "Epoch 36/50\n",
      "2758/2758 [==============================] - 3s 944us/step - loss: 4659889452.2595\n",
      "Epoch 37/50\n",
      "2758/2758 [==============================] - 3s 945us/step - loss: 4627345504.0348\n",
      "Epoch 38/50\n",
      "2758/2758 [==============================] - 3s 942us/step - loss: 4608631133.9935\n",
      "Epoch 39/50\n",
      "2758/2758 [==============================] - 3s 957us/step - loss: 4658289577.7079\n",
      "Epoch 40/50\n",
      "2758/2758 [==============================] - 3s 950us/step - loss: 4609768300.8394\n",
      "Epoch 41/50\n",
      "2758/2758 [==============================] - 3s 975us/step - loss: 4629340425.3715\n",
      "Epoch 42/50\n",
      "2758/2758 [==============================] - 3s 978us/step - loss: 4682883191.6955\n",
      "Epoch 43/50\n",
      "2758/2758 [==============================] - 3s 964us/step - loss: 4559500197.9964\n",
      "Epoch 44/50\n",
      "2758/2758 [==============================] - 3s 957us/step - loss: 4566775045.4744\n",
      "Epoch 45/50\n",
      "2758/2758 [==============================] - 3s 938us/step - loss: 4553968086.9880\n",
      "Epoch 46/50\n",
      "2758/2758 [==============================] - 3s 945us/step - loss: 4557109951.4201\n",
      "Epoch 47/50\n",
      "2758/2758 [==============================] - 3s 942us/step - loss: 4573975647.8492\n",
      "Epoch 48/50\n",
      "2758/2758 [==============================] - 3s 973us/step - loss: 4673414734.4980\n",
      "Epoch 49/50\n",
      "2758/2758 [==============================] - 3s 968us/step - loss: 4539498949.4513\n",
      "Epoch 50/50\n",
      "2758/2758 [==============================] - 3s 960us/step - loss: 4626513745.3744\n"
     ]
    }
   ],
   "source": [
    "h = model.fit(x_normal, x_normal, batch_size=32, epochs=50)"
   ]
  },
  {
   "cell_type": "code",
   "execution_count": 29,
   "metadata": {
    "id": "3VV16-oWF8gJ"
   },
   "outputs": [],
   "source": [
    "pred_normal = model.predict(x_test_normal)\n",
    "pred_abnormal = model.predict(x_abnormal)\n",
    "pred_train = model.predict(x_normal)"
   ]
  },
  {
   "cell_type": "code",
   "execution_count": 30,
   "metadata": {
    "colab": {
     "base_uri": "https://localhost:8080/"
    },
    "id": "tV8lH32tF8gJ",
    "outputId": "327711b8-c44b-4560-fba5-d24cc652cfce"
   },
   "outputs": [
    {
     "data": {
      "text/plain": [
       "((9812, 14), (1953, 14), (88234, 14))"
      ]
     },
     "execution_count": 30,
     "metadata": {
      "tags": []
     },
     "output_type": "execute_result"
    }
   ],
   "source": [
    "pred_normal.shape, pred_abnormal.shape, pred_train.shape"
   ]
  },
  {
   "cell_type": "code",
   "execution_count": 31,
   "metadata": {
    "id": "duqNdiSzF8gJ"
   },
   "outputs": [],
   "source": [
    "def mse(x, y):\n",
    "    return (np.square(x - y)).mean(axis=(1))"
   ]
  },
  {
   "cell_type": "code",
   "execution_count": 32,
   "metadata": {
    "id": "mQZnL2JPF8gK"
   },
   "outputs": [],
   "source": [
    "error_normal = mse(pred_normal, x_test_normal)\n",
    "error_abnormal = mse(pred_abnormal, x_abnormal)\n",
    "error_train_normal = mse(pred_train, x_normal)"
   ]
  },
  {
   "cell_type": "code",
   "execution_count": null,
   "metadata": {
    "colab": {
     "base_uri": "https://localhost:8080/"
    },
    "id": "15hh8IqpF8gK",
    "outputId": "ca9e92a0-375e-4a74-a879-9a67217f95b5"
   },
   "outputs": [
    {
     "data": {
      "text/plain": [
       "((9856,), (1463,), (88680,))"
      ]
     },
     "execution_count": 30,
     "metadata": {
      "tags": []
     },
     "output_type": "execute_result"
    }
   ],
   "source": [
    "error_normal.shape, error_abnormal.shape, error_train_normal.shape"
   ]
  },
  {
   "cell_type": "code",
   "execution_count": 33,
   "metadata": {
    "colab": {
     "base_uri": "https://localhost:8080/"
    },
    "id": "KKn5whJ0F8gK",
    "outputId": "b6cad8d6-c1fe-481f-f741-a7a25ac59c2a"
   },
   "outputs": [
    {
     "data": {
      "text/plain": [
       "(4548888031.647074, 12292665726.843702, 4588813095.261304)"
      ]
     },
     "execution_count": 33,
     "metadata": {
      "tags": []
     },
     "output_type": "execute_result"
    }
   ],
   "source": [
    "np.mean(error_normal), np.mean(error_abnormal), np.mean(error_train_normal)"
   ]
  },
  {
   "cell_type": "code",
   "execution_count": 34,
   "metadata": {
    "colab": {
     "base_uri": "https://localhost:8080/",
     "height": 605
    },
    "id": "yxmnWmBHF8gK",
    "outputId": "eaec2d17-823b-4ab2-c010-bc073d64b4fa"
   },
   "outputs": [
    {
     "data": {
      "image/png": "[encoded data removed]",
      "text/plain": [
       "<Figure size 720x720 with 1 Axes>"
      ]
     },
     "metadata": {
      "needs_background": "light",
      "tags": []
     },
     "output_type": "display_data"
    }
   ],
   "source": [
    "plt.figure(figsize=(10,10))\n",
    "plt.hist(error_train_normal, bins=100, alpha=0.5) # Blue\n",
    "plt.hist(error_normal, bins=100, alpha=0.5) # Orange\n",
    "plt.hist(error_abnormal, bins=100, alpha=0.5) # Green\n",
    "plt.legend(['Normal_train', 'Normal_val', 'Abnormal_val'])\n",
    "plt.show()"
   ]
  },
  {
   "cell_type": "code",
   "execution_count": null,
   "metadata": {
    "id": "WZutxO5mF8gM"
   },
   "outputs": [],
   "source": []
  },
  {
   "cell_type": "code",
   "execution_count": null,
   "metadata": {
    "id": "G4CPgcrBF8gM"
   },
   "outputs": [],
   "source": []
  }
 ],
 "metadata": {
  "colab": {
   "name": "SyncopateInnovations_technicaltest_3.ipynb",
   "provenance": [],
   "toc_visible": true
  },
  "kernelspec": {
   "display_name": "Python 3",
   "language": "python",
   "name": "python3"
  },
  "language_info": {
   "codemirror_mode": {
    "name": "ipython",
    "version": 3
   },
   "file_extension": ".py",
   "mimetype": "text/x-python",
   "name": "python",
   "nbconvert_exporter": "python",
   "pygments_lexer": "ipython3",
   "version": "3.7.2"
  }
 },
 "nbformat": 4,
 "nbformat_minor": 1
}
